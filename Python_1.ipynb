{
 "cells": [
  {
   "cell_type": "code",
   "execution_count": 1,
   "metadata": {},
   "outputs": [
    {
     "data": {
      "text/plain": [
       "'NOHTYP'"
      ]
     },
     "execution_count": 1,
     "metadata": {},
     "output_type": "execute_result"
    }
   ],
   "source": [
    "\"python\".upper()[::-1]"
   ]
  },
  {
   "cell_type": "code",
   "execution_count": 38,
   "metadata": {},
   "outputs": [
    {
     "data": {
      "text/plain": [
       "'Mám 56 jablek a 120 pomerančů, tedy 176 kusů ovoce, což je tak 17.6 kilo. Když sním 8 kusů ovoce denně, bude mi to trvat asi 22 dnů. Protože mám však o 64 pomerančů víc, budu posledních 8 dnů mít asi přebytek vitamínu C...'"
      ]
     },
     "execution_count": 38,
     "metadata": {},
     "output_type": "execute_result"
    }
   ],
   "source": [
    "apples = 56\n",
    "oranges = 120\n",
    "day = 8\n",
    "'Mám {} jablek a {} pomerančů, tedy {} kusů ovoce, což je tak {} kilo. Když sním {} kusů ovoce denně, bude mi to trvat asi {} dnů. Protože mám však o {} pomerančů víc, budu posledních {} dnů mít asi přebytek vitamínu C...'.format(apples, oranges, (apples+oranges), (apples+oranges)/10, day, round(apples/day+oranges/day), (oranges-apples), round(oranges/day-apples/day))\n"
   ]
  },
  {
   "cell_type": "code",
   "execution_count": null,
   "metadata": {
    "collapsed": true
   },
   "outputs": [],
   "source": []
  }
 ],
 "metadata": {
  "kernelspec": {
   "display_name": "Python 3",
   "language": "python",
   "name": "python3"
  },
  "language_info": {
   "codemirror_mode": {
    "name": "ipython",
    "version": 3
   },
   "file_extension": ".py",
   "mimetype": "text/x-python",
   "name": "python",
   "nbconvert_exporter": "python",
   "pygments_lexer": "ipython3",
   "version": "3.6.1"
  }
 },
 "nbformat": 4,
 "nbformat_minor": 2
}
