{
 "cells": [
  {
   "cell_type": "code",
   "execution_count": 51,
   "metadata": {},
   "outputs": [
    {
     "name": "stdout",
     "output_type": "stream",
     "text": [
      "0.3\n"
     ]
    }
   ],
   "source": [
    "def nucl_freq(sekvence, znak):\n",
    "    \"\"\"Funkce spočítá frekvenci znaku v dané sekvenci\"\"\"\n",
    "    delka_sekvence = len(sekvence)\n",
    "    pocet_znaku = seq.count(znak)\n",
    "    frekvence_znaku =pocet_znaku/delka_sekvence\n",
    "    return frekvence_znaku\n",
    "\n",
    "seq = 'ACTGAATGCT'\n",
    "a_freq = nucl_freq(seq, 'A')\n",
    "print(a_freq)"
   ]
  },
  {
   "cell_type": "code",
   "execution_count": 46,
   "metadata": {},
   "outputs": [],
   "source": [
    "def nucl_freq_all(sekv):\n",
    "    \"\"\"Funkce spočítá frekvenci všech znaků (A, T, G a C) v dané sekvenci\"\"\"\n",
    "    znak = \"ATCG\"\n",
    "    frekvence = {}\n",
    "    for i in znak:\n",
    "        f = nucl_freq(sekv, i)\n",
    "        frekvence[i] = f\n",
    "    return frekvence\n",
    "\n",
    "freqs = nucl_freq_all(seq)"
   ]
  },
  {
   "cell_type": "code",
   "execution_count": 47,
   "metadata": {},
   "outputs": [
    {
     "data": {
      "text/plain": [
       "{'A': 0.3, 'C': 0.2, 'G': 0.2, 'T': 0.3}"
      ]
     },
     "execution_count": 47,
     "metadata": {},
     "output_type": "execute_result"
    }
   ],
   "source": [
    "freqs"
   ]
  },
  {
   "cell_type": "code",
   "execution_count": null,
   "metadata": {
    "collapsed": true
   },
   "outputs": [],
   "source": []
  }
 ],
 "metadata": {
  "kernelspec": {
   "display_name": "Python 3",
   "language": "python",
   "name": "python3"
  },
  "language_info": {
   "codemirror_mode": {
    "name": "ipython",
    "version": 3
   },
   "file_extension": ".py",
   "mimetype": "text/x-python",
   "name": "python",
   "nbconvert_exporter": "python",
   "pygments_lexer": "ipython3",
   "version": "3.6.1"
  }
 },
 "nbformat": 4,
 "nbformat_minor": 2
}
