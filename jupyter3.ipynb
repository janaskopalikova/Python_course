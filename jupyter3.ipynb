{
 "cells": [
  {
   "cell_type": "code",
   "execution_count": 147,
   "metadata": {
    "collapsed": true
   },
   "outputs": [],
   "source": []
  },
  {
   "cell_type": "code",
   "execution_count": 29,
   "metadata": {},
   "outputs": [
    {
     "name": "stdout",
     "output_type": "stream",
     "text": [
      "Zadej věk své kočky v lidských letech: 0.5\n",
      "Kočičí věk tvé kočky je:\n",
      "9.0\n"
     ]
    }
   ],
   "source": [
    "x = float(input(\"Zadej věk své kočky v lidských letech: \"))\n",
    "if x < 1:\n",
    "    print(\"Kočičí věk tvé kočky je:\")\n",
    "    print(x*18)\n",
    "elif x < 2:\n",
    "    print(\"Kočičí věk tvé kočky je:\")\n",
    "    print (18 + (x-1) * 7)\n",
    "elif x < 5:\n",
    "    print(\"Kočičí věk tvé kočky je:\")\n",
    "    print(25 + (x-2) * 5)\n",
    "elif x < 10:\n",
    "    print(\"Kočičí věk tvé kočky je:\")\n",
    "    print(40 + (x-5) * 4)\n",
    "elif x < 15:\n",
    "    print(\"Kočičí věk tvé kočky je:\")\n",
    "    print(60 + (x-10) * 5)\n",
    "elif x < 999999999999999:\n",
    "    print(\"Kočičí věk tvé kočky je:\")\n",
    "    print(85 + (x-15) * 3)"
   ]
  },
  {
   "cell_type": "code",
   "execution_count": 153,
   "metadata": {},
   "outputs": [
    {
     "name": "stdout",
     "output_type": "stream",
     "text": [
      "Počet písmen:\n",
      "78\n",
      "Počet číslic:\n",
      "30\n",
      "Počet ostatních znaků:\n",
      "63\n"
     ]
    }
   ],
   "source": [
    "alphabet = 'abcdefghijklmnopqrstuvwxyz'\n",
    "numbers = \"0123456789\"\n",
    "rceni = 'Král řekl Honzovi: \"Ta saň má 7 hlav! Zabij ji a dostaneš 1/2 království.\"'\n",
    "alp = set(alphabet)\n",
    "num = set(numbers)\n",
    "rce = rceni.lower()\n",
    "oth = {\"/\", \"*\", \"-\", \"+\", \"/\", \"(\", \")\", \"[\", \"]\", \"{\", \"}\", \".\", \",\" ,\"_\", \":\", \"<\", \">\", \"?\", \"'\", \" \", \"!\", '\"'}\n",
    "pismena = 0\n",
    "numbers = 0\n",
    "others = 0\n",
    "for i in num:\n",
    "    numbers2 = numbers + rce.count('i')\n",
    "    numbers = numbers2\n",
    "for i in alp:\n",
    "    pismena2 = pismena + rce.count('i')\n",
    "    pismena = pismena2\n",
    "for i in oth:\n",
    "    others2 = others + rce.count('i')\n",
    "    others = others2\n",
    "print(\"Počet písmen:\")\n",
    "print(pismena2)\n",
    "print(\"Počet číslic:\")\n",
    "print(numbers2)\n",
    "print(\"Počet ostatních znaků:\")\n",
    "print(others2)"
   ]
  },
  {
   "cell_type": "code",
   "execution_count": null,
   "metadata": {},
   "outputs": [],
   "source": []
  },
  {
   "cell_type": "code",
   "execution_count": null,
   "metadata": {},
   "outputs": [],
   "source": []
  },
  {
   "cell_type": "code",
   "execution_count": null,
   "metadata": {},
   "outputs": [],
   "source": []
  },
  {
   "cell_type": "code",
   "execution_count": null,
   "metadata": {},
   "outputs": [],
   "source": []
  },
  {
   "cell_type": "code",
   "execution_count": null,
   "metadata": {},
   "outputs": [],
   "source": []
  },
  {
   "cell_type": "code",
   "execution_count": null,
   "metadata": {},
   "outputs": [],
   "source": []
  },
  {
   "cell_type": "code",
   "execution_count": null,
   "metadata": {
    "collapsed": true
   },
   "outputs": [],
   "source": []
  }
 ],
 "metadata": {
  "kernelspec": {
   "display_name": "Python 3",
   "language": "python",
   "name": "python3"
  },
  "language_info": {
   "codemirror_mode": {
    "name": "ipython",
    "version": 3
   },
   "file_extension": ".py",
   "mimetype": "text/x-python",
   "name": "python",
   "nbconvert_exporter": "python",
   "pygments_lexer": "ipython3",
   "version": "3.6.1"
  }
 },
 "nbformat": 4,
 "nbformat_minor": 2
}
